{
 "cells": [
  {
   "cell_type": "code",
   "execution_count": null,
   "id": "c334d08d",
   "metadata": {},
   "outputs": [],
   "source": [
    "#!meta\n",
    "\n",
    "{\"kernelInfo\":{\"defaultKernelName\":\"csharp\",\"items\":[{\"aliases\":[],\"name\":\"csharp\"}]}}\n",
    "\n"
   ]
  },
  {
   "cell_type": "code",
   "execution_count": null,
   "id": "6dcc5f17",
   "metadata": {},
   "outputs": [],
   "source": [
    "\n",
    "#r \"nuget:Deedle\"\n",
    "#r \"nuget: Plotly.NET, 4.2.0\"\n",
    "#r \"nuget: Plotly.NET.Interactive, 4.2.1\"\n",
    "#r \"nuget: FSharp.Stats, 0.5.0\"\n",
    "\n"
   ]
  },
  {
   "cell_type": "code",
   "execution_count": null,
   "id": "90a5629d",
   "metadata": {},
   "outputs": [],
   "source": [
    "\n",
    "open Deedle\n",
    "open Plotly.NET\n",
    "open FSharp.Stats\n",
    "open FSharp.Stats.Signal\n",
    "open FSharp.Stats.Signal.QQPlot\n",
    "open FSharp.Stats.Testing\n",
    "open FSharp.Stats.Fitting\n",
    "open FSharp.Stats.Fitting.LinearRegression\n",
    "open FSharp.Stats.Correlation\n",
    "open FSharp.Stats.Distributions\n",
    "\n"
   ]
  },
  {
   "cell_type": "code",
   "execution_count": null,
   "id": "62581c0c",
   "metadata": {},
   "outputs": [],
   "source": [
    "\n",
    "//===========================================================\n",
    "// Function to calculate R2: The Coefficient of Determination\n",
    "//===========================================================\n",
    "// xs: Input - A sequence of x values\n",
    "// ys: Input - A sequence of y values\n",
    "let R2 xs ys =\n",
    "  let n = ys |> Seq.length\n",
    "  let nExy = (float n) * ( (xs, ys) ||> Seq.map2 (fun x y -> x * y) |> Seq.sum )\n",
    "  let ExEy = (xs |> Seq.sum ) * (ys |> Seq.sum)\n",
    "  let Ex_2 = xs |> Seq.map (fun x -> x * x) |> Seq.sum\n",
    "  let Ey_2 = ys |> Seq.map (fun y -> y * y) |> Seq.sum\n",
    "  let Ex2 = (xs |> Seq.sum) * (xs |> Seq.sum)\n",
    "  let Ey2 = (ys |> Seq.sum) * (ys |> Seq.sum)\n",
    "\n",
    "  let R = (nExy - ExEy) / ( (sqrt ( (float n) * Ex_2 - Ex2 )) * (sqrt ( (float n) * Ey_2 - Ey2 )) )\n",
    "  R*R\n",
    "\n"
   ]
  },
  {
   "cell_type": "code",
   "execution_count": null,
   "id": "21a35d1d",
   "metadata": {},
   "outputs": [],
   "source": [
    "\n",
    "//=================================================================== \n",
    "// Generate a simple random sample of num_samples from a data frame\n",
    "// Input: \n",
    "//    num_samples: The number of samples to select at random from\n",
    "//                 data frame 'frame'.\n",
    "//    frame      : The data frame from which the samples are selected\n",
    "//\n",
    "// Outpout: a new frame consisting of `num_samples` rows.\n",
    "//===================================================================\n",
    "let simpleRandomSample num_samples (frame: Frame<'K, 'R>) =\n",
    "  let rand count max = \n",
    "    let mutable samples = Array.init num_samples (fun x -> 0)\n",
    "    let n = count\n",
    "    let N = max\n",
    "    let mutable t = 0\n",
    "    let mutable m = 0\n",
    "    let mutable u = 0.0\n",
    "    let mutable continue_looping = true\n",
    "    while continue_looping do\n",
    "      u <- System.Random().NextDouble()\n",
    "      let left = (float (N - t)) * u\n",
    "      let right = float (n - m)\n",
    "      if ( left >= right )\n",
    "      then t <- t + 1\n",
    "      else\n",
    "        samples[m] <- t\n",
    "        t <- t + 1\n",
    "        m <- m + 1\n",
    "      if m >= n then\n",
    "        continue_looping <- false\n",
    "    samples\n",
    "\n",
    "  let reindexed_frame = Frame.indexRowsOrdinally frame\n",
    "  let inds = rand num_samples (reindexed_frame.RowCount-1)\n",
    "  Frame.sliceRows inds reindexed_frame\n",
    "\n"
   ]
  },
  {
   "cell_type": "code",
   "execution_count": null,
   "id": "a924b229",
   "metadata": {},
   "outputs": [],
   "source": [
    "\n",
    "//============================================================================= \n",
    "// Generate a stratified random sample of num_samples from a data frame\n",
    "// Input: \n",
    "//    fraction   : The fraction of the sample size per group in the data frame\n",
    "//    column_name: The name of the column by which to group the samples\n",
    "//    frame      : The data frame from which the samples are selected\n",
    "//\n",
    "// Outpout: a new frame consisting of `num_samples` rows.\n",
    "//============================================================================\n",
    "\n",
    "let stratifiedRandomSample fraction column_name (frame: Frame<'K, 'R>) =\n",
    "  let total_rows = frame.RowCount\n",
    "  let fraction = fraction/100.0\n",
    "  let total_sampled_df = (fraction * (float total_rows)) |> ceil\n",
    "  let grouped_df = frame |> Frame.groupRowsByString column_name\n",
    "  let d3 = grouped_df |> Frame.nest\n",
    "  let num_groups = d3.KeyCount\n",
    "\n",
    "  let stratified_sample =\n",
    "    [\n",
    "      for i in 0..(num_groups-1) do\n",
    "        let group_frame = d3.GetAt(i)\n",
    "        let nitems = group_frame.RowCount\n",
    "        let sample_size =  (float nitems * fraction) |> ceil |> int\n",
    "        group_frame |> simpleRandomSample sample_size\n",
    "    ] |> Frame.mergeAll\n",
    "\n",
    "  stratified_sample\n",
    "\n"
   ]
  },
  {
   "cell_type": "code",
   "execution_count": null,
   "id": "54923a4d",
   "metadata": {},
   "outputs": [],
   "source": [
    "\n",
    "// ==========================================================================================================\n",
    "// Compute the confidence interval for two independent samples, i.e., two populations only BY MEANS!!!!!!\n",
    "// Input: \n",
    "//    samplea   : A series/column represnting the first sample or population\n",
    "//    sampleb   : A series/column represnting the second sample or population\n",
    "//\n",
    "// Output: The confidence interval for the two independent samples.\n",
    "//\n",
    "// https://sphweb.bumc.bu.edu/otlt/mph-modules/bs/bs704_confidence_intervals/bs704_confidence_intervals5.html\n",
    "// ==========================================================================================================\n",
    "\n",
    "let twoSampleConfidenceInterval (samplea: Series<int, float>) (sampleb: Series<int, float>) =\n",
    "  let na = float samplea.ValueCount\n",
    "  let nb = float sampleb.ValueCount\n",
    "  let sa = float (Stats.stdDev samplea)\n",
    "  let sb = float (Stats.stdDev sampleb)\n",
    "  let meana = Stats.mean samplea\n",
    "  let meanb = Stats.mean sampleb\n",
    "\n",
    "  let sp = \n",
    "    ((na - 1.0) * sa * sa + (nb - 1.0) * sb * sb) / (na + nb - 2.0)\n",
    "    |> sqrt\n",
    "  \n",
    "  let lower = (meana - meanb) + 1.96 * sp * sqrt (1.0/na + 1.0/nb)\n",
    "  let upper = (meana - meanb) - 1.96 * sp * sqrt (1.0/na + 1.0/nb)\n",
    "  printfn \"CI = (%A, %A)\" upper lower\n",
    "\n"
   ]
  },
  {
   "cell_type": "code",
   "execution_count": null,
   "id": "5d4a8e78",
   "metadata": {},
   "outputs": [],
   "source": [
    "\n",
    "// ===========================================================================================================================\n",
    "// Compute the confidence interval for two independent samples, i.e., two populations only BY PROPORTION !!!!\n",
    "// Input: \n",
    "//    proportion_from_population1: Example: number of females that survived / total number of females \n",
    "//    total_population1          : Example Total number of females\n",
    "//    proportion_from_population2: Example: number of males that survived / total number of males\n",
    "//    total_population2          : Example Total number of males\n",
    "//\n",
    "// Output: The confidence interval for the two independent samples by PROPORTION.\n",
    "//\n",
    "// https://sphweb.bumc.bu.edu/otlt/mph-modules/bs/bs704_confidence_intervals/BS704_Confidence_Intervals7.html#headingtaglink_4\n",
    "// ===========================================================================================================================\n",
    "\n",
    "let twoSampleConfidenceIntervalPopulationProportion proportion_from_population1 total_population1 proportion_from_population2 total_population2 =\n",
    "  let n1 = float total_population1\n",
    "  let n2 = float total_population2\n",
    "  let p1 =  proportion_from_population1\n",
    "  let p2 =  proportion_from_population2\n",
    "\n",
    "  let lower = p1 - p2 + 1.96 * sqrt ((p1 * (1.0-p1) / n1) + (p2 * (1.0-p2) / n2)) |> abs\n",
    "  let upper = p1 - p2 - 1.96 * sqrt ((p1 * (1.0-p1) / n1) + (p2 * (1.0-p2) / n2)) |> abs\n",
    "\n",
    "  printfn \"CI = (%A, %A)\" lower upper\n",
    "\n"
   ]
  },
  {
   "cell_type": "markdown",
   "id": "11d61819",
   "metadata": {},
   "source": [
    "\n",
    "#### PROJECT 1: Does Brain Weight Differ by Age in Healthy Adult Humans?\n",
    "The Brainhead.csv dataset provides information on 237 individuals who were subject to postmortem examination at the Middlesex Hospital in London around the turn of the 20th century [1]. Study authors used cadavers to see if a relationship between brain weight and other more easily measured physiological characterizes such as age, sex, and head size could be determined. The end goal was to develop a way to estimate a person's brain size while they were still alive (as the living aren't keen on having their brains taken out and weighed). We wish to determine if there is a relationship between age and brain weight in healthy human adults.\n",
    "\n",
    "##### Project deliverables:\n",
    "1. Import the Brainhead.csv dataset. Review the data dictionary to identify each variable in the dataset as categorical or quantitative. If the variable is categorical, further identify it as ordinal, nominal, or an identifier variable. If the variable is quantitative, identify it as discrete or continuous. `(8 marks)`\n",
    "\n",
    "2. Create a histogram of brain weight and calculate the appropriate summary measures to describe the distribution. `(3 marks)`\n",
    "\n",
    "3. Display the distribution of age graphically. `(2 marks)`\n",
    "\n",
    "4. Describe the distribution of age with a numerical summary. `(1 mark)`\n",
    "\n",
    "5. Draw side-by-side box plots illustrating the distribution of brain weight by age. `(5 marks)`\n",
    "\n",
    "  `Hint: Step 1. Use Frame.filterRows to create two data frames - a dataframe for the younger than 46 group and another dataframe for the older than 46 group.`\n",
    "\t\n",
    "\tFor example, for a data frame called 'furniture_df' where 'desks' are labelled 1 and 'chairs' are lableled 2. I can extract a dataframe with just data for desks using:\n",
    "\t\n",
    "\t      let desks_df = furniture_df |> Frame.filterRows (fun key row -> row?desks = 1)\n",
    "\t\n",
    "\t`Hint: Step 2. From each dataframe you created, extract just the Brain column`\n",
    "\n",
    "\t`Hint: Step 3. Create two boxplots and combine them.`\n",
    "\n",
    "6. Calculate and compare the mean and standard deviation of brain weight by age. `(5 marks)`\n",
    "\n",
    "7. Describe the hypothesis test you would use to test for a statistically significant difference in brain weight by age. `(2 marks)`\n",
    "\n",
    "8. Identify the appropriate statistical test for your hypotheses in Deliverable 7, and determine if the assumptions for using this test are met. `(3 marks)`\n",
    "\n",
    "9. Test for a statistically significant difference in brain weight by age at the 0.05 level. `(3 marks)`\n",
    "\n",
    "10. Calculate a 95% confidence interval for the difference in the mean brain weight for older and younger individuals. `(2 marks)`\n",
    "\n",
    "11. Summarise your results about the relationship of age and brain weight in healthy adults. `(2 marks)`\n",
    "\n",
    "##### REFERENCE\n",
    "[1]. Gladstone, R. J. (1905). “A Study of the Relations of the Brain to the Size of the Head,” Biometrika, Vol. 4, pp. 105–123.\n",
    "\n"
   ]
  },
  {
   "cell_type": "markdown",
   "id": "49455fab",
   "metadata": {},
   "source": [
    "\n",
    "1. Import the Brainhead.csv dataset. Review the data dictionary to identify each variable in the dataset as categorical or quantitative. If the variable is categorical, further identify it as ordinal, nominal, or an identifier variable. If the variable is quantitative, identify it as discrete or continuous. `(8 marks)`\n",
    "\n"
   ]
  },
  {
   "cell_type": "code",
   "execution_count": null,
   "id": "61a96dea",
   "metadata": {},
   "outputs": [],
   "source": [
    "\n",
    "let brainhead = Frame.ReadCsv(\"Brainhead.csv\")//, separators=\",\")\n",
    "brainhead.Print()\n",
    "\n"
   ]
  },
  {
   "cell_type": "markdown",
   "id": "5eeb66f0",
   "metadata": {},
   "source": [
    "\n",
    "Gender is categorical nominal. \n",
    "(Categorical as its categorizing people into genders, its nominal as 1 is for male and 2 is for female)\n",
    "\n",
    "Age is categorical ordinal. \n",
    "(Categorical as its categorizing people into many ages, its ordinal as 1 is the 20 to 46 group and 2 for older over 46's)\n",
    "\n",
    "Head is quantitative continuous. \n",
    "(Qantitative as its size is in cm^3, its continuous as centimetres can be any number)\n",
    "\n",
    "Brain is quantitative continuous. \n",
    "(Qantitative as its weight is in in grams, its continuous as grams can be any number)\n",
    "\n"
   ]
  },
  {
   "cell_type": "markdown",
   "id": "82acc4f3",
   "metadata": {},
   "source": [
    "\n",
    "2. Create a histogram of brain weight and calculate the appropriate summary measures to describe the distribution. `(3 marks)`\n",
    "\n"
   ]
  },
  {
   "cell_type": "code",
   "execution_count": null,
   "id": "9f3e070c",
   "metadata": {},
   "outputs": [],
   "source": [
    "\n",
    "Chart.Histogram(brainhead?Brain.Values) //, NBinsX=10)\n",
    "|> Chart.withXAxisStyle (TitleText = \"Brain Weight\")\n",
    "|> Chart.withYAxisStyle (TitleText = \"Frequency\")\n",
    "\n"
   ]
  },
  {
   "cell_type": "code",
   "execution_count": null,
   "id": "8715fb7d",
   "metadata": {},
   "outputs": [],
   "source": [
    "\n",
    "let braininfo = brainhead?Brain\n",
    "Stats.describe braininfo\n",
    "\n"
   ]
  },
  {
   "cell_type": "markdown",
   "id": "579f1b0c",
   "metadata": {},
   "source": [
    "\n",
    "[mean, 1282.873417721519], [std, 120.3404457864572]\n",
    "\n",
    "The mean brain is 1282.873g (3d.p) and has a standard deviation of 120.34g (2d.p).\n",
    "\n",
    "[min, 955]  [max, 1635]\n",
    "\n",
    "Brain weights range from a minimum of 955g to a maximum of 1635g.\n",
    "\n",
    "[0.25, 1207], [0.5, 1280], [0.75, 1350]\n",
    "\n",
    "Quarter 1 is at 1207g, the mean at 1280g and quarter 3 at 1350g.\n",
    "\n",
    "Thanks to the graph you can tell it somewhat normaly distrobuted, it doesnt fit a bell shape yet has some symetry.\n",
    "\n"
   ]
  },
  {
   "cell_type": "markdown",
   "id": "56066d42",
   "metadata": {},
   "source": [
    "\n",
    "3. Display the distribution of age graphically. `(2 marks)`\n",
    "\n"
   ]
  },
  {
   "cell_type": "code",
   "execution_count": null,
   "id": "fb0e6055",
   "metadata": {},
   "outputs": [],
   "source": [
    "\n",
    "let total = brainhead.RowCount\n",
    "let age_series = brainhead.GetColumn<string>(\"Age\")\n",
    "let ones = age_series |> Series.filterValues (fun v -> v = \"1\") |> Series.countValues\n",
    "let twos = total - ones\n",
    "\n",
    "let age_result_frequency = Series.ofObservations [ \"age less than 46 (%)\" => (float ones) * 100.0/(float total); \"age greater than 46(%)\" => (float twos) * 100.0/(float total) ]\n",
    "age_result_frequency.Print()\n",
    "\n",
    "Chart.Bar(age_result_frequency |> Series.observations)\n",
    "|> Chart.withXAxisStyle (TitleText = \"Percentage\")\n",
    "|> Chart.withYAxisStyle (TitleText = \"Age\")\n",
    "\n"
   ]
  },
  {
   "cell_type": "markdown",
   "id": "8c1b7c75",
   "metadata": {},
   "source": [
    "\n",
    "4. Describe the distribution of age with a numerical summary. `(1 mark)`\n",
    "\n"
   ]
  },
  {
   "cell_type": "code",
   "execution_count": null,
   "id": "81f8b9fc",
   "metadata": {},
   "outputs": [],
   "source": [
    "\n",
    "let ageinfo = brainhead?Age\n",
    "Stats.describe ageinfo\n",
    "\n"
   ]
  },
  {
   "cell_type": "markdown",
   "id": "fdb28a47",
   "metadata": {},
   "source": [
    "\n",
    "[mean, 1.5358649789029535], [std, 0.4997675208658458](1 is 20-46's, 20 is 46's and above)\n",
    "[min, 1], [0.25, 1], [0.5, 2], [0.75, 2], \n",
    "\n",
    "The above data suggetest that the data set is slightly skewed to having more over 46's, with the mean being almost halfway between the end of 20-46's participants and over 46's\n",
    "\n",
    "age less than 46 (%)   -> 46.413502109704645 \n",
    "age greater than 46(%) -> 53.586497890295355 \n",
    "\n",
    "As we can see from the bar chart, there are 46.414%(3d.p) of 20-46's and 53.586%(3d.p) of over 46's.\n",
    "There are more over 46's in the data set than there are 20-46's, by 7.1729%(4d.p)\n",
    "\n"
   ]
  },
  {
   "cell_type": "markdown",
   "id": "0825a1eb",
   "metadata": {},
   "source": [
    "\n",
    "5. Draw side-by-side box plots illustrating the distribution of brain weight by age. `(5 marks)`\n",
    "\n",
    " `Hint: Step 1. Use Frame.filterRows to create two data frames - a dataframe for the younger than 46 group and another dataframe for the older than 46 group.`\n",
    "\t\n",
    "\tFor example, for a data frame called 'furniture_df' where 'desks' are labelled 1 and 'chairs' are lableled 2. I can extract a dataframe with just data for desks using:\n",
    "\t\n",
    "\t      let desks_df = furniture_df |> Frame.filterRows (fun key row -> row?desks = 1)\n",
    "\t\n",
    "\t`Hint: Step 2. From each dataframe you created, extract just the Brain column`\n",
    "\n",
    "\t`Hint: Step 3. Create two boxplots and combine them.`\n",
    "\n"
   ]
  },
  {
   "cell_type": "code",
   "execution_count": null,
   "id": "23664319",
   "metadata": {},
   "outputs": [],
   "source": [
    "\n",
    "let younger_df = brainhead |> Frame.filterRows  (fun key row -> row?Age = 1)\n",
    "let older_df = brainhead |> Frame.filterRows (fun key row -> row?Age = 2)\n",
    "let transposedDF = older_df.Transpose()\n",
    "transposedDF.Print()\n",
    "\n",
    "[ Chart.Bar(younger_df.GetColumn<int>(\"Age\") |> Series.observations)//I couldnt get it to work with the transposed dataframes :/\n",
    "  Chart.Bar(older_df.GetColumn<int>(\"Age\") |> Series.observations)]\n",
    "|> Chart.combine\n",
    "|> Chart.withXAxisStyle (TitleText = \"Age\")\n",
    "|> Chart.withYAxisStyle (TitleText = \"Frequency\") \n",
    "\n"
   ]
  },
  {
   "cell_type": "markdown",
   "id": "85b74d40",
   "metadata": {},
   "source": [
    "\n",
    "6. Calculate and compare the mean and standard deviation of brain weight by age. `(5 marks)`\n",
    "\n"
   ]
  },
  {
   "cell_type": "code",
   "execution_count": null,
   "id": "98d5e621",
   "metadata": {},
   "outputs": [],
   "source": [
    "\n",
    "let braininforyoung = younger_df?Brain\n",
    "Stats.describe braininfo\n",
    "\n"
   ]
  },
  {
   "cell_type": "code",
   "execution_count": null,
   "id": "7ae8d5c0",
   "metadata": {},
   "outputs": [],
   "source": [
    "\n",
    "let braininforold = older_df?Brain\n",
    "Stats.describe braininforold\n",
    "\n"
   ]
  },
  {
   "cell_type": "markdown",
   "id": "de4f6a73",
   "metadata": {},
   "source": [
    "\n",
    "young = [mean, 1282.873417721519], [std, 120.3404457864572]\n",
    "old = [mean, 1263.9370078740158], [std, 120.92571168503282]\n",
    "\n",
    "20-46's have a mean of 1282.873(3d.p) and a standard devation of 120.340(3d.p).\n",
    "over 46's have a mean of 1263.937(3d.p) and a standard devation of 120.926(3d.p).\n",
    "\n",
    "The mean brain weight of the 20-46's is 18.936g (3d.p) higher than over 46's.\n",
    "The standard deviation of brain weight of the 20-46's group is 0.585g (3d.p) higher than the older over 46's.\n",
    "\n",
    "The under 46 group has on average heavier brains than over 46's meaning we loose brain mass as we age.\n",
    "The under 46 group is a little more variability in their brain weight.\n",
    "\n",
    "#!csharp\n",
    "\n",
    "//from here on onwards, questions will be in the code boxes. e.g //1. Import the Treckers.csv dataset. Op...\n",
    "\n"
   ]
  },
  {
   "cell_type": "markdown",
   "id": "b1fd293e",
   "metadata": {},
   "source": [
    "\n",
    "#### PROJECT 2: Preventing Acute Mountain Sickness with Ginkgo Biloba and Acetazolamide\n",
    "\n",
    "Acute mountain sickness (AMS) is a common concern for mountain climbers who ascend higher than 2000 m. Characterized by headache, lightheadedness, fatigue, nausea, and insomnia, AMS is caused by a failure to adapt to the acute hypobaric hypoxia experienced at high altitudes. The drug acetazolamide has been used effectively to treat AMS; however, it has a variety of unpleasant side effects that can reduce compliance to taking it. Previous studies suggested that the herbal supplement ginkgo biloba might also be used to prevent AMS without side effects. To test this hypothesis, healthy western volunteers who were hiking Mt. Everest were randomized to one of four treatments: placebo, ginkgo biloba only, acetazolamide only or ginkgo biloba and acetazolamide [2]. Treatment group as well as incidence of AMS and incidence of headache for the 487 individuals who completed the experiment are presented in Treckers.csv. We wish to determine if ginkgo biloba is as effective in preventing AMS as acetazolamide.\n",
    "\n",
    "##### Project deliverables\n",
    "1. Import the Treckers.csv dataset. Open the data dictionary to identify each variable in the dataset as categorical or quantitative. If the variable is categorical, further identify it as ordinal, nominal, or an identifier variable. If the variable is quantitative, identify it as discrete or continuous. `(12 marks)`\n",
    "\n",
    "2. Create a subset that contains records of participants who were randomised to take ginkgo biloba only and acetazolamide only. **Hint:** Filter your original frame by (`fun key row -> row?Trt = 2 || row?Trt = 3`) in your F# code. We will use this subset to complete the rest of the deliverables. `(2 marks)`\n",
    "\n",
    "3. Create a new column called TrtChar that takes on the value GinkgoBiloba or Acetazolamide for individuals who were assigned to those treatments. Create another new column called AMSChar that takes on the value `Yes` for participants who developed AMS and `No` for participants who did not develop AMS. (You can filter using `AMS_out` if you wish.) `(2 marks)`\n",
    "\n",
    "4. What number and proportion of hikers developed AMS? `(2 marks)`\n",
    "\n",
    "5. Calculate the joint and marginal distributions of treatment and AMS. `(3 marks)`\n",
    "\n",
    "6. Determine the conditional distribution of the incidence of AMS by treatment. `(4 marks)`\n",
    "\n",
    "7. Display the results of Deliverable 6 in a side-by-side bar chart. `(1 mark)`\n",
    "\n",
    "8. What is the appropriate test to determine if the proportion of individuals who develop AMS while taking acetazolamide is the same as the proportion who develop AMS while taking ginkgo biloba? Verify that the assumptions for using this test are met. `(5 marks)`\n",
    "\n",
    "9. Write the hypotheses for the test you identified in Deliverable 8. `(2 marks)`\n",
    "\n",
    "10. Summarise your conclusions about the effectiveness of ginkgo biloba and acetazolamide as treatments for AMS. `(1 mark)`\n",
    "\n",
    "##### REFERENCE\n",
    "[2]. Gertsch, J. H., Basnyat, B., Johnson, E. W., Onopa, J., and Holck, P. S. (2005). “Randomized, Double-Blind Placebo Controlled Comparison of Ginkgo Biloba and Acetazolamide for Prevention of Acute Mountain Sickness Among Himalayan Trekkers: the Prevention of High Altitude Illness Trial,” British Medical Journal, Vol. 328, p. 797.\n",
    "\n"
   ]
  },
  {
   "cell_type": "code",
   "execution_count": null,
   "id": "edc5d1bf",
   "metadata": {},
   "outputs": [],
   "source": [
    "\n",
    "//1. Import the Treckers.csv dataset. Open the data dictionary to identify each variable in the dataset as categorical or quantitative. If the variable is categorical, further identify it as ordinal, nominal, or an identifier variable. If the variable is quantitative, identify it as discrete or continuous. `(12 marks)`\n",
    "let Treckers = Frame.ReadCsv(\"Treckers.csv\")//, separators=\",\")\n",
    "Treckers.Print()\n",
    "\n"
   ]
  },
  {
   "cell_type": "markdown",
   "id": "258c7f5c",
   "metadata": {},
   "source": [
    "\n",
    "ID is categorical identifier.\n",
    "(Categorical as its categorising items in the dataframe, its identifier as you use id to find and identify specidic rows)\n",
    "\n",
    "Trt is categorical ordinal.\n",
    "(Categorical as it encapsulates different treatments, its ordinal as there is numerical order to the treatments which mean different drugs, 1 = placebo, 2 = acetazolamide only, 3 = ginkgo biloba only, 4 = acetazolamide and ginkgo biloba)\n",
    "\n",
    "ACET is a categorical nominal.\n",
    "(Categorical as it represents a category as an indicator, its nominal as its size doesnt matter and grouped for taking acetazolamide, 0 = no, 1 = yes)\n",
    "\n",
    "Ginkgo is a categorical nominal.\n",
    "(Categorical as it represents a category as an indicator, its nominal as its size doesnt matter and grouped for taking ginkgo biloba, 0 = no, 1 = yes)\n",
    "\n",
    "AMS_out is a categorical nominal.\n",
    "(Categorical as it represents a category as an indicator, its Nominal as its true or false, there is no order and grouped for if the hiker has acute mountain sickness, 0 = no, 1 = yes)\n",
    "\n",
    "Headache_out is a categorical nominal.\n",
    "(Categorical as it represents a category as an indicator, its Nominal as its true or false, there is no order and grouped for if the hiker has a hedache, 0 = no, 1 = yes)\n",
    "\n"
   ]
  },
  {
   "cell_type": "code",
   "execution_count": null,
   "id": "f591dc92",
   "metadata": {},
   "outputs": [],
   "source": [
    "\n",
    "//2. Create a subset that contains records of participants who were randomised to take ginkgo biloba only and acetazolamide only. **Hint:** Filter your original frame by (`fun key row -> row?Trt = 2 || row?Trt = 3`) in your F# code. We will use this subset to complete the rest of the deliverables. `(2 marks)`\n",
    "let Treckers_seriesGA = Treckers |> Frame.filterRows (fun key row -> row?Trt = 2 || row?Trt = 3)\n",
    "Treckers_seriesGA.Print()\n",
    "\n"
   ]
  },
  {
   "cell_type": "code",
   "execution_count": null,
   "id": "677f0844",
   "metadata": {},
   "outputs": [],
   "source": [
    "\n",
    "//3. Create a new column called TrtChar that takes on the value GinkgoBiloba or Acetazolamide for individuals who were assigned to those treatments. Create another new column called AMSChar that takes on the value `Yes` for participants who developed AMS and `No` for participants who did not develop AMS. (You can filter using `AMS_out` if you wish.) `(2 marks)`\n",
    "Treckers_seriesGA?TrtChar <- Treckers_seriesGA?Trt |> Series.mapValues (fun i -> if i = 3 then \"GinkgoBiloba\" else \"Acetazolamide\")\n",
    "Treckers_seriesGA?AMSChar <- Treckers_seriesGA?AMS_out |> Series.mapValues (fun i -> if i = 1 then \"Yes\" else \"No\")\n",
    "Treckers_seriesGA.Print()\n",
    "\n"
   ]
  },
  {
   "cell_type": "code",
   "execution_count": null,
   "id": "0e660743",
   "metadata": {},
   "outputs": [],
   "source": [
    "\n",
    "//4. What number and proportion of hikers developed AMS? `(2 marks)`, \n",
    "let AMSChar_frequency =\n",
    "    Treckers_seriesGA\n",
    "    |> Frame.pivotTable\n",
    "        (fun k r -> r.GetAs<string>(\"AMSChar\"))\n",
    "        (fun k r -> r.GetAs<int>(\"AMS_out\"))\n",
    "        Frame.countRows\n",
    "\n",
    "AMSChar_frequency\n",
    "\n"
   ]
  },
  {
   "cell_type": "markdown",
   "id": "cc42d283",
   "metadata": {},
   "source": [
    "\n",
    "[ No => series [ 0 => 185; 1 => <missing>]; Yes => series [ 0 => <missing>; 1 => 57]\n",
    "\n",
    "The above explains to us there are 185 No's and 57 Yes's for patients who developed AMS.\n",
    "\n",
    "Therefore within the records of hikers who were randomised to take ginkgo biloba only or acetazolamide only, 57 hikers developed AMS.\n",
    "\n"
   ]
  },
  {
   "cell_type": "code",
   "execution_count": null,
   "id": "f5ddfb85",
   "metadata": {},
   "outputs": [],
   "source": [
    "\n",
    "let totalTreckers_seriesGA = Treckers_seriesGA.RowCount\n",
    "let AMSChar_series = Treckers_seriesGA.GetColumn<int>(\"AMS_out\")  // Get column from the original data\n",
    "let yesAMS = AMSChar_series |> Series.filterValues (fun v -> v = 1) |> Series.countValues  // Compare with integer 1\n",
    "let noAMS = totalTreckers_seriesGA - yesAMS\n",
    "\n",
    "let AMSChar_frequency = Series.ofObservations [ \"yes (%)\" => (float yesAMS) * 100.0/(float totalTreckers_seriesGA); \"no (%)\" => (float noAMS) * 100.0/(float totalTreckers_seriesGA) ]\n",
    "AMSChar_frequency.Print()\n",
    "\n",
    "Chart.Bar(AMSChar_frequency |> Series.observations)\n",
    "|> Chart.withXAxisStyle (TitleText = \"Percentage\")\n",
    "|> Chart.withYAxisStyle (TitleText = \"yes or no\")\n",
    "\n"
   ]
  },
  {
   "cell_type": "markdown",
   "id": "db8f9271",
   "metadata": {},
   "source": [
    "\n",
    "23.554%(3d.p) of hikers who took ginkgobiloba or acetazolamide devloped AMS\n",
    "\n"
   ]
  },
  {
   "cell_type": "code",
   "execution_count": null,
   "id": "8b09c53b",
   "metadata": {},
   "outputs": [],
   "source": [
    "\n",
    "//5. Calculate the joint and marginal distributions of treatment and AMS. `(3 marks)`\n",
    "\n",
    "let joint_and_marginal =\n",
    "    Treckers_seriesGA\n",
    "    |> Frame.pivotTable\n",
    "        (fun k r -> r.GetAs<string>(\"TrtChar\"))\n",
    "        (fun k r -> r.GetAs<string>(\"AMSChar\"))\n",
    "        Frame.countRows\n",
    "\n",
    "joint_and_marginal\n",
    "\n"
   ]
  },
  {
   "cell_type": "markdown",
   "id": "2e1316f1",
   "metadata": {},
   "source": [
    "\n",
    "Joint distribution of treatment and AMS:\n",
    "\n",
    "Out of 242 participants 185 did experience benefits but 57 hickers did not experience improvements.\n",
    "\n",
    "104 hikers on acetazolamide and 81 on ginkgo biloba did experience improvements.\n",
    "14 hikers on acetazolamide and 43 on ginkgo biloba didnt see any improvements.\n",
    "\n",
    "Marginal distributions of treatment and AMS:\n",
    "\n",
    "118 of hickers received acetazolamide, while 124 received ginkgo biloba.\n",
    "185 of hickers did not get AMS, while 57 did.\n",
    "\n"
   ]
  },
  {
   "cell_type": "code",
   "execution_count": null,
   "id": "c5e488f5",
   "metadata": {},
   "outputs": [],
   "source": [
    "\n",
    "Treckers_seriesGA.Print()\n",
    "//6. Determine the conditional distribution of the incidence of AMS by treatment. `(4 marks)`\n",
    "\n"
   ]
  },
  {
   "cell_type": "markdown",
   "id": "ab45aca8",
   "metadata": {},
   "source": [
    "\n",
    "#### PROJECT 3: What Factors Influence Mammal Sleep Patterns?\n",
    "\n",
    "All mammals sleep. As any college student who has pulled an all-nighter knows, going without sleep or trying to function on too little sleep has a host of deleterious effects. However, for something that is so clearly physiologically important, there is a great variety in sleep needs throughout the animal kingdom from animals that seem never to sleep to those who that seem never to wake (ahem, cats). Researchers recorded data on sleep duration as well as a set of ecological and constitutional variables for a selection of mammal species [3]. This data appears in the Sleep.csv dataset. We wish to examine the relationship between dreaming and nondreaming sleep time in this set of mammal species.\n",
    "\n",
    "##### Project deliverables:\n",
    "1. Import the Sleep.csv dataset. Open the data dictionary to identify each variable in the dataset as categorical or quantitative. If the variable is categorical, further identify it as ordinal, nominal, or an identifier variable. If the variable is quantitative, identify it as discrete or continuous. `(22 marks)` \n",
    "\n",
    "2. Display the distribution of total sleep for the mammal species in the dataset and describe the distribution with some summary statistics: shortest sleep time, longest sleep time, mean sleep time, median sleep time and standard deviation. `(6 marks)`\n",
    "\n",
    "3. Plot the relationship between nondreaming and dreaming sleep. Do animals who spend more time in dreaming sleep also spend more time in nondreaming sleep or does dreaming sleep decrease as nondreaming sleep increases? Hint: Use Chart.Point. `(2 marks)`\n",
    "\n",
    "4. What is the appropriate method to model the relationship between time spent in nondreaming sleep and time spent in dreaming sleep? Verify that the assumptions for using this method are met. `(4 marks)`\n",
    "\n",
    "5. Determine the regression equation that relates time spent in non-dreaming sleep to time spent in dreaming sleep. Interpret the slope. \"Hint: The x-axis variable should be non-dreaming sleep\". `(3 marks)`\n",
    "\n",
    "6. Calculate and interpret the correlation and R2 describing the relationship between dreaming and nondreaming sleep time. Interpret both the correlation and R2. `(4 marks)`\n",
    "\n",
    "7. If a mammal species experiences 5 hours of nondreaming sleep a day, how many hours of dreaming sleep would we expect that animal to get on average? `(2 marks)`\n",
    "\n",
    "8. Calculate the difference in the number of hours spent in nondreaming and dreaming sleep for each mammal in the dataset. `(1 mark)`\n",
    "\n",
    "9. What is the appropriate test to determine if mammals spend the same or different numbers of hours in dreaming and nondreaming sleep? Verify that the assumptions for using this test are met. `(3 marks)`\n",
    "\n",
    "10. Write the hypotheses for the test you identified in Deliverable 9. `(2 marks)`\n",
    "\n",
    "11. Conduct the hypothesis test and report your conclusion at the 0.05 significance level. `(3 marks)`\n",
    "\n",
    "12. Create a 95% confidence interval for the mean difference in the number of hours a mammal spends in nondreaming and dreaming sleep. `(2 marks)`\n",
    "\n",
    "13. Summarise your findings about dreaming and nondreaming sleep in mammals. `(2 marks)`\n",
    "\n",
    "##### REFERENCE\n",
    "[3]. Allison, T. and Cicchetti, D. (1976), “Sleep in Mammals: Ecological and Constitutional Correlates,” Science, November 12, Vol. 194, pp. 732–734.\n",
    "\n"
   ]
  },
  {
   "cell_type": "code",
   "execution_count": null,
   "id": "7c8aee7f",
   "metadata": {},
   "outputs": [],
   "source": [
    "\n",
    "//1. Import the Sleep.csv dataset. Open the data dictionary to identify each variable in the dataset as categorical or quantitative. If the variable is categorical, further identify it as ordinal, nominal, or an identifier variable. If the variable is quantitative, identify it as discrete or continuous. `(22 marks)`\n",
    "let Sleeps = Frame.ReadCsv(\"Sleep.csv\")//, separators=\",\")\n",
    "Sleeps.Print()\n",
    "\n"
   ]
  },
  {
   "cell_type": "markdown",
   "id": "af6703e7",
   "metadata": {},
   "source": [
    "\n",
    "Animal is categorical identifier.\n",
    "(Categorical as it represents its own species as an indicator, its identifier as you would use the animal name to find and identify what animal the data belongs, to find a species, use a string input)\n",
    "\n",
    "Brain is Quantitative continuous.\n",
    "(Qantitative as its weight is in kilograms, its continuous as kilograms can be any numeric number)\n",
    "\n",
    "Body is Quantitative continuous.\n",
    "(Qantitative as its weight is in grams, its continuous as grams can be any numeric number)\n",
    "\n",
    "SWsleep is Quantitative continuous.\n",
    "(Qantitative as its measurment is in hours, its continuous as Slow wave hours slept be any numeric number)\n",
    "\n",
    "Parasleep is Quantitative continuous.\n",
    "(Qantitative as its measurment is in hours, its continuous as Paradoxica hours slept can be any numeric number)\n",
    "\n",
    "Totsleep is Quantitative continuous.\n",
    "(Qantitative as its measurment is in hours, its continuous as total hours slept can be any numeric number)\n",
    "\n",
    "Life is quantitative continuous.\n",
    "(Qantitative as its measurment is in years, its continuous as life expectancy can be any numeric number)\n",
    "\n",
    "Gest is quantitative continuous.\n",
    "(Qantitative as its measurment is in days, its continuous as the gestation period can be any numeric number)\n",
    "\n",
    "Pred is categorical ordinal.\n",
    "(Categorical as it represents a category as an indicator, ordinal as having a better predation means a direct improvement to the animal's livelyhood and a lower chance of getting killed, the rankings are from [1 – 5] with 1 being the most desired)\n",
    "\n",
    "Exposure is categorical ordinal.\n",
    "(Categorical as it represents a category as an indicator, ordinal as less exposure as they sleep means a direct improvement to the animal's livelyhood and a lower chance of getting killed, the rankings are from [1 – 5] with 1 being the most desired)\n",
    "\n",
    "Danger is categorical ordinal.\n",
    "(Categorical as it represents a category as an indicator, ordinal as less danger from other animal's means a direct improvement to the animal's livelyhood and a lower chance of getting killed, the rankings are from [1 – 5] with 1 being the most desired)\n",
    "\n"
   ]
  },
  {
   "cell_type": "code",
   "execution_count": null,
   "id": "775dc89c",
   "metadata": {},
   "outputs": [],
   "source": [
    "\n",
    "//2. Display the distribution of total sleep for the mammal species in the dataset and describe the distribution with some summary statistics: shortest sleep time, longest sleep time, mean sleep time, median sleep time and standard deviation. `(6 marks)`\n",
    "\n",
    "Chart.Histogram(Sleeps?Totsleep.Values) //, NBinsX=10)\n",
    "|> Chart.withXAxisStyle (TitleText = \"Sleep hours\")\n",
    "|> Chart.withYAxisStyle (TitleText = \"Frequency\")\n",
    "\n"
   ]
  },
  {
   "cell_type": "code",
   "execution_count": null,
   "id": "8f1e4207",
   "metadata": {},
   "outputs": [],
   "source": [
    "\n",
    "let TTotsleep = Sleeps?Totsleep\n",
    "Stats.describe TTotsleep\n",
    "\n"
   ]
  },
  {
   "cell_type": "markdown",
   "id": "66bedd08",
   "metadata": {},
   "source": [
    "\n",
    "[mean, 10.642857142857142], [std, 4.709416765564185]\n",
    "\n",
    "The mean sleep time is 10.643 hours (3d.p) and a standard deviation of 4.709 hours (2d.p).\n",
    "\n",
    "[min, 2.9] [max, 19.9]\n",
    "\n",
    "Sleep time ranges from a minimum of 2.9 hours to a maximum of 19.9 hours.\n",
    "\n",
    "[0.75 => 13.6; 0.5 => 9.8; 0.25 => 8.05]\n",
    "\n",
    "Quarter 1 is at 8.05 hours, the mean at 9.8 hours and quarter 3 at 13.6.\n",
    "\n",
    "Thanks to the graph you can tell it somewhat normaly distrobuted, it doesnt fit a bell shape yet has some symetry.\n",
    "\n"
   ]
  },
  {
   "cell_type": "code",
   "execution_count": null,
   "id": "ca28ff33",
   "metadata": {},
   "outputs": [],
   "source": [
    "\n",
    "//3. Plot the relationship between nondreaming and dreaming sleep. Do animals who spend more time in dreaming sleep also spend more time in nondreaming sleep or does dreaming sleep decrease as nondreaming sleep increases? Hint: Use Chart.Point. `(2 marks)`\n",
    "\n",
    "\n",
    "let hoursND_series = Sleeps?SWsleep\n",
    "let hoursD_series = Sleeps?Parasleep\n",
    "\n",
    "let nondreamingDreaming =\n",
    "    Sleeps\n",
    "    |> Frame.pivotTable\n",
    "        (fun k r -> r.GetAs<string>(\"SWsleep\"))\n",
    "        (fun k r -> r.GetAs<string>(\"Parasleep\"))\n",
    "        Frame.countRows\n",
    "\n",
    "Chart.Point(hoursND_series |> Series.values, hoursD_series |> Series.values)\n",
    "|> Chart.withXAxisStyle (TitleText = \"dreaming sleep hours\")\n",
    "|> Chart.withYAxisStyle (TitleText = \"non dreaming sleep hours\")\n",
    "\n"
   ]
  },
  {
   "cell_type": "markdown",
   "id": "65e0b83d",
   "metadata": {},
   "source": [
    "\n",
    "The graph plottig dreaming sleep hours by non dreaming sleep hours has a mildly Mositive Increasing Trend with a Weak Correlation, I think this as the graph is at an incline yet there is a high varience.\n",
    "\n",
    "But to answer the question Yes, animals who spend more time in dreaming sleep do also end up spend more time in nondreaming sleep on average.\n",
    "\n"
   ]
  },
  {
   "cell_type": "code",
   "execution_count": null,
   "id": "011d0468",
   "metadata": {},
   "outputs": [],
   "source": [
    "\n",
    "//4.What is the appropriate method to model the relationship between time spent in nondreaming sleep and time spent in dreaming sleep? Verify that the assumptions for using this method are met. `(4 marks)`\n",
    "\n"
   ]
  },
  {
   "cell_type": "markdown",
   "id": "3c98fdee",
   "metadata": {},
   "source": [
    "\n",
    "After removing outliers specificaly, \n",
    "It is clear theres a positive trend \n",
    "\n",
    "![Alt text](image2.png)\n",
    "\n",
    "It is clear there is a Positive, Linear trend, and therfore it would be best to use a Linear Regression Model\n",
    "\n",
    "The assumptions for using this method are met are:\n",
    "\n",
    "There is constant linearity, all points have similar varience,\n",
    "\n",
    "There is a clear trend, the line of best fit shows it so,\n",
    "\n",
    "And errors are independent, there are only a couple of outlyers.\n"
   ]
  }
 ],
 "metadata": {
  "kernelspec": {
   "display_name": "F#",
   "language": "fsharp",
   "name": "fsharp"
  }
 },
 "nbformat": 4,
 "nbformat_minor": 5
}
